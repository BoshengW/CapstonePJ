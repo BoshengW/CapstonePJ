{
 "cells": [
  {
   "cell_type": "code",
   "execution_count": 1,
   "metadata": {},
   "outputs": [],
   "source": [
    "import pandas as pd\n",
    "import numpy as np\n",
    "import seaborn as sns\n",
    "import matplotlib.pyplot as plt\n",
    "\n",
    "from surprise import SVD\n",
    "from surprise import Dataset, Reader\n",
    "from surprise.model_selection import cross_validate, train_test_split\n",
    "from surprise import accuracy\n",
    "\n",
    "import movieLens_util\n",
    "from numpy.linalg import svd"
   ]
  },
  {
   "cell_type": "code",
   "execution_count": 2,
   "metadata": {},
   "outputs": [],
   "source": [
    "df_data, df_movie_meta, df_catalog, df_user_meta = movieLens_util.load_movieLens_dataset('ml-100k')"
   ]
  },
  {
   "cell_type": "code",
   "execution_count": 4,
   "metadata": {},
   "outputs": [],
   "source": [
    "## load dataframe into surprise dataset object\n",
    "## this time also need Reader object since need to scale the rating range\n",
    "\n",
    "reader = Reader(rating_scale=(1,5))\n",
    "algo = SVD(n_epochs=100, reg_all=0.1, lr_all=0.005, n_factors=130)\n",
    "data_input = Dataset.load_from_df(df_data[['user_id','item_id','rating']], reader)\n",
    "\n",
    "trainset = data_input.build_full_trainset() \n",
    "testset = trainset.build_testset() ## testset is same as trainset\n",
    "\n",
    "algo.fit(trainset)\n",
    "predictions = algo.test(testset) # get prediction rating matrix of trainset\n",
    "\n",
    "## load prediction into rating dataframe\n",
    "model_pred_rating_matrix = pd.DataFrame([[i.uid, i.iid, i.est] for i in predictions], \n",
    "                                        columns=['user_id','movie_id','svd_rating'])\n"
   ]
  },
  {
   "cell_type": "code",
   "execution_count": 5,
   "metadata": {},
   "outputs": [
    {
     "data": {
      "text/plain": [
       "(100000, 3)"
      ]
     },
     "execution_count": 5,
     "metadata": {},
     "output_type": "execute_result"
    }
   ],
   "source": [
    "model_pred_rating_matrix.shape"
   ]
  },
  {
   "cell_type": "code",
   "execution_count": 6,
   "metadata": {},
   "outputs": [
    {
     "data": {
      "text/html": [
       "<div>\n",
       "<style scoped>\n",
       "    .dataframe tbody tr th:only-of-type {\n",
       "        vertical-align: middle;\n",
       "    }\n",
       "\n",
       "    .dataframe tbody tr th {\n",
       "        vertical-align: top;\n",
       "    }\n",
       "\n",
       "    .dataframe thead th {\n",
       "        text-align: right;\n",
       "    }\n",
       "</style>\n",
       "<table border=\"1\" class=\"dataframe\">\n",
       "  <thead>\n",
       "    <tr style=\"text-align: right;\">\n",
       "      <th></th>\n",
       "      <th>user_id</th>\n",
       "      <th>movie_id</th>\n",
       "      <th>svd_rating</th>\n",
       "    </tr>\n",
       "  </thead>\n",
       "  <tbody>\n",
       "    <tr>\n",
       "      <th>0</th>\n",
       "      <td>196</td>\n",
       "      <td>242</td>\n",
       "      <td>3.707704</td>\n",
       "    </tr>\n",
       "    <tr>\n",
       "      <th>1</th>\n",
       "      <td>196</td>\n",
       "      <td>393</td>\n",
       "      <td>3.667549</td>\n",
       "    </tr>\n",
       "    <tr>\n",
       "      <th>2</th>\n",
       "      <td>196</td>\n",
       "      <td>381</td>\n",
       "      <td>3.769488</td>\n",
       "    </tr>\n",
       "    <tr>\n",
       "      <th>3</th>\n",
       "      <td>196</td>\n",
       "      <td>251</td>\n",
       "      <td>3.619711</td>\n",
       "    </tr>\n",
       "    <tr>\n",
       "      <th>4</th>\n",
       "      <td>196</td>\n",
       "      <td>655</td>\n",
       "      <td>4.081602</td>\n",
       "    </tr>\n",
       "  </tbody>\n",
       "</table>\n",
       "</div>"
      ],
      "text/plain": [
       "   user_id  movie_id  svd_rating\n",
       "0      196       242    3.707704\n",
       "1      196       393    3.667549\n",
       "2      196       381    3.769488\n",
       "3      196       251    3.619711\n",
       "4      196       655    4.081602"
      ]
     },
     "execution_count": 6,
     "metadata": {},
     "output_type": "execute_result"
    }
   ],
   "source": [
    "model_pred_rating_matrix.head()"
   ]
  },
  {
   "cell_type": "code",
   "execution_count": 7,
   "metadata": {},
   "outputs": [],
   "source": [
    "## use un-rating part as testset for prediction\n",
    "\n",
    "anti_testset = trainset.build_anti_testset()\n",
    "anti_predictions = algo.test(anti_testset)\n",
    "\n",
    "model_pred_unrating_matrix = pd.DataFrame([[i.uid, i.iid, i.est] for i in anti_predictions],\n",
    "                              columns=['user_id','movie_id','svd_rating'])\n"
   ]
  },
  {
   "cell_type": "code",
   "execution_count": 8,
   "metadata": {},
   "outputs": [
    {
     "data": {
      "text/plain": [
       "(1486126, 3)"
      ]
     },
     "execution_count": 8,
     "metadata": {},
     "output_type": "execute_result"
    }
   ],
   "source": [
    "model_pred_unrating_matrix.shape ## total rating count: user(943)*movie(1682) = 1586126"
   ]
  },
  {
   "cell_type": "code",
   "execution_count": 9,
   "metadata": {},
   "outputs": [
    {
     "data": {
      "text/plain": [
       "(1586126, 3)"
      ]
     },
     "execution_count": 9,
     "metadata": {},
     "output_type": "execute_result"
    }
   ],
   "source": [
    "## fill all missing rating by prediction\n",
    "\n",
    "full_rating_matrix = pd.concat([model_pred_rating_matrix, model_pred_unrating_matrix], ignore_index=True)\n",
    "full_rating_matrix.shape"
   ]
  },
  {
   "cell_type": "code",
   "execution_count": 10,
   "metadata": {},
   "outputs": [
    {
     "data": {
      "text/plain": [
       "(943, 1682)"
      ]
     },
     "execution_count": 10,
     "metadata": {},
     "output_type": "execute_result"
    }
   ],
   "source": [
    "## convert full_rating_matrix into pivot first\n",
    "\n",
    "pivot_rating_matrix = pd.pivot_table(full_rating_matrix, values='svd_rating', index='user_id', columns='movie_id')\n",
    "pivot_rating_matrix.shape"
   ]
  },
  {
   "cell_type": "code",
   "execution_count": 11,
   "metadata": {},
   "outputs": [
    {
     "data": {
      "text/html": [
       "<div>\n",
       "<style scoped>\n",
       "    .dataframe tbody tr th:only-of-type {\n",
       "        vertical-align: middle;\n",
       "    }\n",
       "\n",
       "    .dataframe tbody tr th {\n",
       "        vertical-align: top;\n",
       "    }\n",
       "\n",
       "    .dataframe thead th {\n",
       "        text-align: right;\n",
       "    }\n",
       "</style>\n",
       "<table border=\"1\" class=\"dataframe\">\n",
       "  <thead>\n",
       "    <tr style=\"text-align: right;\">\n",
       "      <th>movie_id</th>\n",
       "      <th>1</th>\n",
       "      <th>2</th>\n",
       "      <th>3</th>\n",
       "      <th>4</th>\n",
       "      <th>5</th>\n",
       "      <th>6</th>\n",
       "      <th>7</th>\n",
       "      <th>8</th>\n",
       "      <th>9</th>\n",
       "      <th>10</th>\n",
       "      <th>...</th>\n",
       "      <th>1673</th>\n",
       "      <th>1674</th>\n",
       "      <th>1675</th>\n",
       "      <th>1676</th>\n",
       "      <th>1677</th>\n",
       "      <th>1678</th>\n",
       "      <th>1679</th>\n",
       "      <th>1680</th>\n",
       "      <th>1681</th>\n",
       "      <th>1682</th>\n",
       "    </tr>\n",
       "    <tr>\n",
       "      <th>user_id</th>\n",
       "      <th></th>\n",
       "      <th></th>\n",
       "      <th></th>\n",
       "      <th></th>\n",
       "      <th></th>\n",
       "      <th></th>\n",
       "      <th></th>\n",
       "      <th></th>\n",
       "      <th></th>\n",
       "      <th></th>\n",
       "      <th></th>\n",
       "      <th></th>\n",
       "      <th></th>\n",
       "      <th></th>\n",
       "      <th></th>\n",
       "      <th></th>\n",
       "      <th></th>\n",
       "      <th></th>\n",
       "      <th></th>\n",
       "      <th></th>\n",
       "      <th></th>\n",
       "    </tr>\n",
       "  </thead>\n",
       "  <tbody>\n",
       "    <tr>\n",
       "      <th>1</th>\n",
       "      <td>3.802517</td>\n",
       "      <td>3.243254</td>\n",
       "      <td>3.386057</td>\n",
       "      <td>3.718319</td>\n",
       "      <td>2.915988</td>\n",
       "      <td>4.200587</td>\n",
       "      <td>4.153756</td>\n",
       "      <td>3.636598</td>\n",
       "      <td>4.084793</td>\n",
       "      <td>3.539661</td>\n",
       "      <td>...</td>\n",
       "      <td>3.568926</td>\n",
       "      <td>3.875027</td>\n",
       "      <td>3.169300</td>\n",
       "      <td>2.956606</td>\n",
       "      <td>3.705681</td>\n",
       "      <td>2.957062</td>\n",
       "      <td>3.678669</td>\n",
       "      <td>3.526854</td>\n",
       "      <td>3.485391</td>\n",
       "      <td>3.221752</td>\n",
       "    </tr>\n",
       "    <tr>\n",
       "      <th>2</th>\n",
       "      <td>3.818824</td>\n",
       "      <td>3.335285</td>\n",
       "      <td>3.065000</td>\n",
       "      <td>3.663537</td>\n",
       "      <td>3.421995</td>\n",
       "      <td>3.993975</td>\n",
       "      <td>3.950262</td>\n",
       "      <td>4.043650</td>\n",
       "      <td>4.046308</td>\n",
       "      <td>3.355685</td>\n",
       "      <td>...</td>\n",
       "      <td>3.382873</td>\n",
       "      <td>3.744003</td>\n",
       "      <td>3.377790</td>\n",
       "      <td>2.970516</td>\n",
       "      <td>3.518582</td>\n",
       "      <td>3.273574</td>\n",
       "      <td>3.485931</td>\n",
       "      <td>3.604803</td>\n",
       "      <td>3.480392</td>\n",
       "      <td>3.520306</td>\n",
       "    </tr>\n",
       "    <tr>\n",
       "      <th>3</th>\n",
       "      <td>3.360960</td>\n",
       "      <td>2.514598</td>\n",
       "      <td>2.606531</td>\n",
       "      <td>2.994375</td>\n",
       "      <td>2.821242</td>\n",
       "      <td>3.006707</td>\n",
       "      <td>3.197395</td>\n",
       "      <td>3.336433</td>\n",
       "      <td>3.517690</td>\n",
       "      <td>3.178303</td>\n",
       "      <td>...</td>\n",
       "      <td>2.939053</td>\n",
       "      <td>3.192318</td>\n",
       "      <td>2.910741</td>\n",
       "      <td>2.351937</td>\n",
       "      <td>2.723741</td>\n",
       "      <td>2.901860</td>\n",
       "      <td>2.850098</td>\n",
       "      <td>3.112334</td>\n",
       "      <td>3.102638</td>\n",
       "      <td>2.713951</td>\n",
       "    </tr>\n",
       "    <tr>\n",
       "      <th>4</th>\n",
       "      <td>4.617985</td>\n",
       "      <td>4.032195</td>\n",
       "      <td>3.900222</td>\n",
       "      <td>4.034371</td>\n",
       "      <td>3.838941</td>\n",
       "      <td>4.571548</td>\n",
       "      <td>4.579831</td>\n",
       "      <td>4.721596</td>\n",
       "      <td>4.799198</td>\n",
       "      <td>4.816215</td>\n",
       "      <td>...</td>\n",
       "      <td>4.161346</td>\n",
       "      <td>4.471872</td>\n",
       "      <td>4.080224</td>\n",
       "      <td>3.760651</td>\n",
       "      <td>4.339391</td>\n",
       "      <td>3.867967</td>\n",
       "      <td>4.357922</td>\n",
       "      <td>4.278897</td>\n",
       "      <td>4.342103</td>\n",
       "      <td>4.038242</td>\n",
       "    </tr>\n",
       "    <tr>\n",
       "      <th>5</th>\n",
       "      <td>3.622918</td>\n",
       "      <td>2.864978</td>\n",
       "      <td>2.569066</td>\n",
       "      <td>3.255264</td>\n",
       "      <td>2.519101</td>\n",
       "      <td>3.248082</td>\n",
       "      <td>4.070826</td>\n",
       "      <td>3.535828</td>\n",
       "      <td>3.662221</td>\n",
       "      <td>3.517516</td>\n",
       "      <td>...</td>\n",
       "      <td>3.262118</td>\n",
       "      <td>3.496741</td>\n",
       "      <td>2.667637</td>\n",
       "      <td>2.514989</td>\n",
       "      <td>3.140201</td>\n",
       "      <td>2.850624</td>\n",
       "      <td>3.068564</td>\n",
       "      <td>3.391599</td>\n",
       "      <td>3.098312</td>\n",
       "      <td>2.757343</td>\n",
       "    </tr>\n",
       "  </tbody>\n",
       "</table>\n",
       "<p>5 rows × 1682 columns</p>\n",
       "</div>"
      ],
      "text/plain": [
       "movie_id      1         2         3         4         5         6     \\\n",
       "user_id                                                                \n",
       "1         3.802517  3.243254  3.386057  3.718319  2.915988  4.200587   \n",
       "2         3.818824  3.335285  3.065000  3.663537  3.421995  3.993975   \n",
       "3         3.360960  2.514598  2.606531  2.994375  2.821242  3.006707   \n",
       "4         4.617985  4.032195  3.900222  4.034371  3.838941  4.571548   \n",
       "5         3.622918  2.864978  2.569066  3.255264  2.519101  3.248082   \n",
       "\n",
       "movie_id      7         8         9         10    ...      1673      1674  \\\n",
       "user_id                                           ...                       \n",
       "1         4.153756  3.636598  4.084793  3.539661  ...  3.568926  3.875027   \n",
       "2         3.950262  4.043650  4.046308  3.355685  ...  3.382873  3.744003   \n",
       "3         3.197395  3.336433  3.517690  3.178303  ...  2.939053  3.192318   \n",
       "4         4.579831  4.721596  4.799198  4.816215  ...  4.161346  4.471872   \n",
       "5         4.070826  3.535828  3.662221  3.517516  ...  3.262118  3.496741   \n",
       "\n",
       "movie_id      1675      1676      1677      1678      1679      1680  \\\n",
       "user_id                                                                \n",
       "1         3.169300  2.956606  3.705681  2.957062  3.678669  3.526854   \n",
       "2         3.377790  2.970516  3.518582  3.273574  3.485931  3.604803   \n",
       "3         2.910741  2.351937  2.723741  2.901860  2.850098  3.112334   \n",
       "4         4.080224  3.760651  4.339391  3.867967  4.357922  4.278897   \n",
       "5         2.667637  2.514989  3.140201  2.850624  3.068564  3.391599   \n",
       "\n",
       "movie_id      1681      1682  \n",
       "user_id                       \n",
       "1         3.485391  3.221752  \n",
       "2         3.480392  3.520306  \n",
       "3         3.102638  2.713951  \n",
       "4         4.342103  4.038242  \n",
       "5         3.098312  2.757343  \n",
       "\n",
       "[5 rows x 1682 columns]"
      ]
     },
     "execution_count": 11,
     "metadata": {},
     "output_type": "execute_result"
    }
   ],
   "source": [
    "pivot_rating_matrix.head()"
   ]
  },
  {
   "cell_type": "code",
   "execution_count": 12,
   "metadata": {},
   "outputs": [],
   "source": [
    "pivot_rating_matrix.to_csv('full_rating_matrix.csv')"
   ]
  },
  {
   "cell_type": "markdown",
   "metadata": {},
   "source": [
    "### After getting dense prediction rating matrix, then we can use svd to split this matrix rather than SGD training"
   ]
  },
  {
   "cell_type": "code",
   "execution_count": 117,
   "metadata": {},
   "outputs": [
    {
     "name": "stdout",
     "output_type": "stream",
     "text": [
      "(943, 943) (943,) (943, 1682)\n"
     ]
    }
   ],
   "source": [
    "## then we can get using SVD to split this dense prediction matrix \n",
    "\n",
    "from numpy.linalg import svd\n",
    "\n",
    "dense_rating_matrix = pivot_rating_matrix.to_numpy()\n",
    "\n",
    "U, S, Vt = svd(dense_rating_matrix, full_matrices=False)\n",
    "\n",
    "Sigma = np.diag(S)\n",
    "print(U.shape, S.shape, Vt.shape)"
   ]
  },
  {
   "cell_type": "markdown",
   "metadata": {},
   "source": [
    "### Serialize SVD algorithm"
   ]
  },
  {
   "cell_type": "code",
   "execution_count": 13,
   "metadata": {},
   "outputs": [],
   "source": [
    "from surprise import dump\n",
    "\n",
    "filename = 'dump_file'\n",
    "\n",
    "dump.dump(filename, algo=algo)"
   ]
  },
  {
   "cell_type": "markdown",
   "metadata": {},
   "source": [
    "#### Above Eigenmatrix is 943*943, but actually we use top K highest eigenvalue part for reduce dimonsion"
   ]
  },
  {
   "cell_type": "markdown",
   "metadata": {},
   "source": [
    "## 1. Folding in technique for cold start\n",
    "1. get new user rating matrix q\n",
    "2. get trained SVD matrix: U, S, V\n",
    "3. project q into user latent factor matrix space: q' = qVS-1\n",
    "4. fold q' into user latent factor matrix U"
   ]
  },
  {
   "cell_type": "markdown",
   "metadata": {},
   "source": [
    "### First, find the top K latent factor, this part can be training by SGD, and we can use fine-tunning to find best topK eigenvector"
   ]
  },
  {
   "cell_type": "code",
   "execution_count": 316,
   "metadata": {},
   "outputs": [
    {
     "data": {
      "text/plain": [
       "(943, 100)"
      ]
     },
     "execution_count": 316,
     "metadata": {},
     "output_type": "execute_result"
    }
   ],
   "source": [
    "U_topK = U[:,:100]\n",
    "U_topK.shape"
   ]
  },
  {
   "cell_type": "code",
   "execution_count": 312,
   "metadata": {},
   "outputs": [
    {
     "data": {
      "text/plain": [
       "(100, 100)"
      ]
     },
     "execution_count": 312,
     "metadata": {},
     "output_type": "execute_result"
    }
   ],
   "source": [
    "S_topK = Sigma[:100,:100]\n",
    "S_topK.shape"
   ]
  },
  {
   "cell_type": "code",
   "execution_count": 322,
   "metadata": {},
   "outputs": [
    {
     "data": {
      "text/plain": [
       "(100, 1682)"
      ]
     },
     "execution_count": 322,
     "metadata": {},
     "output_type": "execute_result"
    }
   ],
   "source": [
    "Vt_topK = Vt[:100,:]\n",
    "Vt_topK.shape"
   ]
  },
  {
   "cell_type": "code",
   "execution_count": 323,
   "metadata": {},
   "outputs": [],
   "source": [
    "inverse_S_topK = np.linalg.inv(S_topK)\n",
    "\n",
    "project_newUser = np.dot(np.dot(new_user_rating_matrix.reshape(1,1682), Vt_topK.transpose()), inverse_S_topK)"
   ]
  },
  {
   "cell_type": "code",
   "execution_count": 327,
   "metadata": {},
   "outputs": [],
   "source": [
    "from sklearn.metrics.pairwise import cosine_similarity\n",
    "\n",
    "cosine_similarity_list = []\n",
    "\n",
    "for i in range(942):\n",
    "    cos_sim_val = cosine_similarity(project_newUser, U_topK[i,:].reshape(1,100))\n",
    "    cosine_similarity_list.append(cos_sim_val)\n",
    "    \n",
    "cosine_similarity_list = np.array(cosine_similarity_list)"
   ]
  },
  {
   "cell_type": "code",
   "execution_count": 334,
   "metadata": {},
   "outputs": [
    {
     "data": {
      "text/plain": [
       "723"
      ]
     },
     "execution_count": 334,
     "metadata": {},
     "output_type": "execute_result"
    }
   ],
   "source": [
    "cosine_similarity_list[165]=0\n",
    "np.argmax(cosine_similarity_list)"
   ]
  },
  {
   "cell_type": "markdown",
   "metadata": {},
   "source": [
    "## 2. Another solution based on a paper. New user missing value imputation - by zeros from another paper"
   ]
  },
  {
   "cell_type": "code",
   "execution_count": 247,
   "metadata": {},
   "outputs": [],
   "source": [
    "## Solve cold start issue\n",
    "\n",
    "## new user cold start issue\n",
    "df_data_new_user166 = df_data[df_data.user_id==166]"
   ]
  },
  {
   "cell_type": "code",
   "execution_count": 248,
   "metadata": {},
   "outputs": [],
   "source": [
    "new_user_rating_matrix = np.zeros((1682))\n",
    "for i in df_data_new_user166.item_id:\n",
    "    new_user_rating_matrix[i-1]=df_data_new_user166[df_data_new_user166.item_id==i].rating"
   ]
  },
  {
   "cell_type": "code",
   "execution_count": 249,
   "metadata": {},
   "outputs": [],
   "source": [
    "user166_matrix = dense_rating_matrix[165,:]"
   ]
  },
  {
   "cell_type": "code",
   "execution_count": 250,
   "metadata": {},
   "outputs": [],
   "source": [
    "new_user_projection = np.dot(new_user_rating_matrix, Vt.transpose())\n",
    "Sigma_with_newUser = np.vstack((Sigma, new_user_projection))\n",
    "Uf, Sf, Vtf = svd(Sigma_with_newUser, full_matrices=False)\n",
    "Sigma_f = np.diag(Sf)"
   ]
  },
  {
   "cell_type": "code",
   "execution_count": 251,
   "metadata": {},
   "outputs": [],
   "source": [
    "zeros = np.zeros((943,1))\n",
    "New_user_matrix = np.append(U,zeros,axis=1)\n",
    "zeros = np.zeros((1,944))\n",
    "zeros[0,943]=1\n",
    "New_user_matrix = np.append(New_user_matrix,zeros,axis=0)"
   ]
  },
  {
   "cell_type": "code",
   "execution_count": 252,
   "metadata": {},
   "outputs": [],
   "source": [
    "New_prediction_rating_matrix = np.dot(New_user_matrix, Uf)\n",
    "New_prediction_rating_matrix = np.dot(New_prediction_rating_matrix, Sigma_f)\n",
    "New_prediction_rating_matrix = np.dot(New_prediction_rating_matrix, np.dot(Vtf, Vt))"
   ]
  },
  {
   "cell_type": "code",
   "execution_count": 254,
   "metadata": {},
   "outputs": [],
   "source": [
    "user943_matrix = New_prediction_rating_matrix[943,:] + algo.trainset.global_mean\n",
    "for idx, val in np.ndenumerate(user943_matrix):\n",
    "    if val>5:\n",
    "        user943_matrix[idx] = 5\n",
    "    if val<=1:\n",
    "        user943_matrix[idx] = 1\n",
    "    "
   ]
  }
 ],
 "metadata": {
  "kernelspec": {
   "display_name": "Python 3",
   "language": "python",
   "name": "python3"
  },
  "language_info": {
   "codemirror_mode": {
    "name": "ipython",
    "version": 3
   },
   "file_extension": ".py",
   "mimetype": "text/x-python",
   "name": "python",
   "nbconvert_exporter": "python",
   "pygments_lexer": "ipython3",
   "version": "3.7.3"
  }
 },
 "nbformat": 4,
 "nbformat_minor": 2
}
