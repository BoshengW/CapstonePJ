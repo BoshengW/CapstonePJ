{
 "cells": [
  {
   "cell_type": "code",
   "execution_count": 14,
   "metadata": {},
   "outputs": [],
   "source": [
    "import pandas as pd\n",
    "import json\n",
    "from util import load_movie_question"
   ]
  },
  {
   "cell_type": "code",
   "execution_count": 25,
   "metadata": {},
   "outputs": [],
   "source": [
    "with open('configuration/movie_questions.json') as f:\n",
    "    data = json.load(f)\n"
   ]
  },
  {
   "cell_type": "code",
   "execution_count": 22,
   "metadata": {},
   "outputs": [],
   "source": [
    "movie_questions = []\n",
    "\n",
    "for i in range(5):\n",
    "    _temp = {}\n",
    "    _temp_year = data[i*100]['name'][-5:-1]\n",
    "    _temp['release'] = _temp_year\n",
    "    _temp['movie'] = data[i*100]['name']\n",
    "    movie_questions.append(_temp)\n",
    "    "
   ]
  },
  {
   "cell_type": "code",
   "execution_count": 26,
   "metadata": {},
   "outputs": [
    {
     "data": {
      "text/plain": [
       "[{'release': '1995', 'moviename': 'Toy Story (1995)'},\n",
       " {'release': '1981', 'moviename': 'Heavy Metal (1981)'},\n",
       " {'release': '1987', 'moviename': 'Evil Dead II (1987)'},\n",
       " {'release': '1997', 'moviename': 'In & Out (1997)'},\n",
       " {'release': '1995', 'moviename': 'Brady Bunch Movie, The (1995)'}]"
      ]
     },
     "execution_count": 26,
     "metadata": {},
     "output_type": "execute_result"
    }
   ],
   "source": [
    "data"
   ]
  },
  {
   "cell_type": "code",
   "execution_count": 24,
   "metadata": {},
   "outputs": [],
   "source": [
    "with open('movie_questions.json', 'w') as json_file:\n",
    "    json.dump(movie_questions, json_file)"
   ]
  },
  {
   "cell_type": "code",
   "execution_count": 23,
   "metadata": {},
   "outputs": [
    {
     "data": {
      "text/plain": [
       "[{'release': '1995', 'moviename': 'Toy Story (1995)'},\n",
       " {'release': '1981', 'moviename': 'Heavy Metal (1981)'},\n",
       " {'release': '1987', 'moviename': 'Evil Dead II (1987)'},\n",
       " {'release': '1997', 'moviename': 'In & Out (1997)'},\n",
       " {'release': '1995', 'moviename': 'Brady Bunch Movie, The (1995)'}]"
      ]
     },
     "execution_count": 23,
     "metadata": {},
     "output_type": "execute_result"
    }
   ],
   "source": [
    "movie_questions"
   ]
  },
  {
   "cell_type": "code",
   "execution_count": null,
   "metadata": {},
   "outputs": [],
   "source": []
  }
 ],
 "metadata": {
  "kernelspec": {
   "display_name": "Python 3",
   "language": "python",
   "name": "python3"
  },
  "language_info": {
   "codemirror_mode": {
    "name": "ipython",
    "version": 3
   },
   "file_extension": ".py",
   "mimetype": "text/x-python",
   "name": "python",
   "nbconvert_exporter": "python",
   "pygments_lexer": "ipython3",
   "version": "3.6.5"
  }
 },
 "nbformat": 4,
 "nbformat_minor": 2
}
