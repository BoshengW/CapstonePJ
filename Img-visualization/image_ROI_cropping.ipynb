{
 "cells": [
  {
   "cell_type": "code",
   "execution_count": 2,
   "metadata": {},
   "outputs": [],
   "source": [
    "import jsonlines\n",
    "import cv2\n",
    "import numpy as np"
   ]
  },
  {
   "cell_type": "code",
   "execution_count": 3,
   "metadata": {},
   "outputs": [],
   "source": [
    "imgs_filename = \"../all_images/trainval/\";\n",
    "annotationJsonlFileName = \"train.jsonl\";"
   ]
  },
  {
   "cell_type": "code",
   "execution_count": 4,
   "metadata": {},
   "outputs": [],
   "source": [
    "def extractImgAnnotation(jsonlFileName, numOfImg, dataSourceDir):\n",
    "    tempCnt = 0; # count number of img \n",
    "    list_annotation_key = []; # save all keys from jsonl\n",
    "    imgInfo_dict = {}; # save jsonl obj content based on Img filename into dictionary\n",
    "    \n",
    "    with jsonlines.open(jsonlFileName) as reader:\n",
    "        for obj in reader:\n",
    "            tempCnt = tempCnt + 1;\n",
    "            temp_jsonlContent = obj;\n",
    "            \n",
    "            for(key, val) in obj.items():\n",
    "                if(tempCnt==1):\n",
    "                    list_annotation_key.append(key); # only extract once extract list of json key\n",
    "                if(key==\"file_name\"):\n",
    "                    tempImgFileName = dataSourceDir + val;\n",
    "                    imgInfo_dict[tempImgFileName] = temp_jsonlContent;\n",
    "            if(tempCnt>=numOfImg):\n",
    "                break;\n",
    "                \n",
    "    return imgInfo_dict, list_annotation_key;"
   ]
  },
  {
   "cell_type": "code",
   "execution_count": 5,
   "metadata": {},
   "outputs": [],
   "source": [
    "def loadBoundBoxOnImage(imgInfo_dict, imgFileName):\n",
    "    # load all boudning box coordinate\n",
    "    img = cv2.imread(imgFileName);\n",
    "    for (key, value) in imgInfo_dict.items():\n",
    "        if(key==imgFileName):\n",
    "            for _sign in value[\"annotations\"]:\n",
    "                for _singleLetter in _sign:\n",
    "                    tempBoundingBox = _singleLetter[\"adjusted_bbox\"];\n",
    "                    x,y,w,h = tempBoundingBox;\n",
    "                    imgWBoundingBox = cv2.rectangle(img,(int(x),int(y)),\n",
    "                                                    (int(x+w),int(y+h)),\n",
    "                                                    (36,255,12));\n",
    "    return imgWBoundingBox;\n",
    "            "
   ]
  },
  {
   "cell_type": "markdown",
   "metadata": {},
   "source": [
    "### Example Extract Bounding Box Annotation from jsonl into raw CTW image\n"
   ]
  },
  {
   "cell_type": "markdown",
   "metadata": {},
   "source": [
    "#### Extract first train CTW image in dataset"
   ]
  },
  {
   "cell_type": "code",
   "execution_count": 6,
   "metadata": {},
   "outputs": [],
   "source": [
    "imgInfo_dict, list_AnnotKey = extractImgAnnotation(annotationJsonlFileName,1,imgs_filename)"
   ]
  },
  {
   "cell_type": "markdown",
   "metadata": {},
   "source": [
    "#### Add Bounding box annotation into raw CTW image"
   ]
  },
  {
   "cell_type": "code",
   "execution_count": 7,
   "metadata": {},
   "outputs": [],
   "source": [
    "imgBoundBox = loadBoundBoxOnImage(imgInfo_dict, '../all_images/trainval/0000172.jpg');"
   ]
  },
  {
   "cell_type": "markdown",
   "metadata": {},
   "source": [
    "#### Show labeled Image with Bounding Box\n",
    "#### Limitation: img size (2048,2048) cannot display whole img with cv2.imshow()"
   ]
  },
  {
   "cell_type": "code",
   "execution_count": 17,
   "metadata": {},
   "outputs": [],
   "source": [
    "cv2.imshow('image',imgBoundBox[0:500,0:1000])\n",
    "cv2.waitKey(0)\n",
    "cv2.destroyAllWindows()"
   ]
  },
  {
   "cell_type": "code",
   "execution_count": 18,
   "metadata": {},
   "outputs": [],
   "source": [
    "cv2.imshow('image',imgBoundBox[0:500,1000:2048])\n",
    "cv2.waitKey(0)\n",
    "cv2.destroyAllWindows()"
   ]
  },
  {
   "cell_type": "code",
   "execution_count": 19,
   "metadata": {},
   "outputs": [],
   "source": [
    "cv2.imshow('image',imgBoundBox[500:2048,0:1000])\n",
    "cv2.waitKey(0)\n",
    "cv2.destroyAllWindows()"
   ]
  },
  {
   "cell_type": "code",
   "execution_count": 20,
   "metadata": {},
   "outputs": [],
   "source": [
    "cv2.imshow('image',imgBoundBox[500:2048,1000:2048])\n",
    "cv2.waitKey(0)\n",
    "cv2.destroyAllWindows()"
   ]
  },
  {
   "cell_type": "code",
   "execution_count": null,
   "metadata": {},
   "outputs": [],
   "source": []
  }
 ],
 "metadata": {
  "kernelspec": {
   "display_name": "Python 3",
   "language": "python",
   "name": "python3"
  },
  "language_info": {
   "codemirror_mode": {
    "name": "ipython",
    "version": 3
   },
   "file_extension": ".py",
   "mimetype": "text/x-python",
   "name": "python",
   "nbconvert_exporter": "python",
   "pygments_lexer": "ipython3",
   "version": "3.5.5"
  },
  "widgets": {
   "state": {},
   "version": "1.1.2"
  }
 },
 "nbformat": 4,
 "nbformat_minor": 2
}
