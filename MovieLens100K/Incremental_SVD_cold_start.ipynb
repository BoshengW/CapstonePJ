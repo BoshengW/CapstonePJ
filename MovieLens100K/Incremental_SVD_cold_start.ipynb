{
 "cells": [
  {
   "cell_type": "code",
   "execution_count": 1,
   "metadata": {},
   "outputs": [],
   "source": [
    "import pandas as pd\n",
    "import numpy as np\n",
    "import seaborn as sns\n",
    "import matplotlib.pyplot as plt\n",
    "\n",
    "from surprise import SVD\n",
    "from surprise import Dataset, Reader\n",
    "from surprise.model_selection import cross_validate, train_test_split\n",
    "from surprise import accuracy\n",
    "\n",
    "import movieLens_util\n",
    "from numpy.linalg import svd"
   ]
  },
  {
   "cell_type": "code",
   "execution_count": 2,
   "metadata": {},
   "outputs": [],
   "source": [
    "df_data, df_movie_meta, df_catalog, df_user_meta = movieLens_util.load_movieLens_dataset('ml-100k')"
   ]
  },
  {
   "cell_type": "code",
   "execution_count": 3,
   "metadata": {},
   "outputs": [],
   "source": [
    "## load dataframe into surprise dataset object\n",
    "## this time also need Reader object since need to scale the rating range\n",
    "\n",
    "reader = Reader(rating_scale=(1,5))\n",
    "algo = SVD()\n",
    "data_input = Dataset.load_from_df(df_data[['user_id','item_id','rating']], reader)\n",
    "\n",
    "trainset = data_input.build_full_trainset() \n",
    "testset = trainset.build_testset() ## testset is same as trainset\n",
    "\n",
    "algo.fit(trainset)\n",
    "predictions = algo.test(testset) # get prediction rating matrix of trainset\n",
    "\n",
    "## load prediction into rating dataframe\n",
    "model_pred_rating_matrix = pd.DataFrame([[i.uid, i.iid, i.est] for i in predictions], \n",
    "                                        columns=['user_id','movie_id','svd_rating'])\n"
   ]
  },
  {
   "cell_type": "code",
   "execution_count": 4,
   "metadata": {},
   "outputs": [
    {
     "data": {
      "text/plain": [
       "(100000, 3)"
      ]
     },
     "execution_count": 4,
     "metadata": {},
     "output_type": "execute_result"
    }
   ],
   "source": [
    "model_pred_rating_matrix.shape"
   ]
  },
  {
   "cell_type": "code",
   "execution_count": 5,
   "metadata": {},
   "outputs": [],
   "source": [
    "## use un-rating part as testset for prediction\n",
    "\n",
    "anti_testset = trainset.build_anti_testset()\n",
    "anti_predictions = algo.test(anti_testset)\n",
    "\n",
    "model_pred_unrating_matrix = pd.DataFrame([[i.uid, i.iid, i.est] for i in anti_predictions],\n",
    "                              columns=['user_id','movie_id','svd_rating'])\n"
   ]
  },
  {
   "cell_type": "code",
   "execution_count": 6,
   "metadata": {},
   "outputs": [
    {
     "data": {
      "text/plain": [
       "(1486126, 3)"
      ]
     },
     "execution_count": 6,
     "metadata": {},
     "output_type": "execute_result"
    }
   ],
   "source": [
    "model_pred_unrating_matrix.shape ## total rating count: user(943)*movie(1682) = 1586126"
   ]
  },
  {
   "cell_type": "code",
   "execution_count": 7,
   "metadata": {},
   "outputs": [
    {
     "data": {
      "text/plain": [
       "(1586126, 3)"
      ]
     },
     "execution_count": 7,
     "metadata": {},
     "output_type": "execute_result"
    }
   ],
   "source": [
    "## fill all missing rating by prediction\n",
    "\n",
    "full_rating_matrix = pd.concat([model_pred_rating_matrix, model_pred_unrating_matrix], ignore_index=True)\n",
    "full_rating_matrix.shape"
   ]
  },
  {
   "cell_type": "code",
   "execution_count": 9,
   "metadata": {},
   "outputs": [
    {
     "data": {
      "text/plain": [
       "(943, 1682)"
      ]
     },
     "execution_count": 9,
     "metadata": {},
     "output_type": "execute_result"
    }
   ],
   "source": [
    "## convert full_rating_matrix into pivot first\n",
    "\n",
    "pivot_rating_matrix = pd.pivot_table(full_rating_matrix, values='svd_rating', index='user_id', columns='movie_id')\n",
    "pivot_rating_matrix.shape"
   ]
  },
  {
   "cell_type": "markdown",
   "metadata": {},
   "source": [
    "### After getting dense prediction rating matrix, then we can use svd to split this matrix rather than SGD training"
   ]
  },
  {
   "cell_type": "code",
   "execution_count": 117,
   "metadata": {},
   "outputs": [
    {
     "name": "stdout",
     "output_type": "stream",
     "text": [
      "(943, 943) (943,) (943, 1682)\n"
     ]
    }
   ],
   "source": [
    "## then we can get using SVD to split this dense prediction matrix \n",
    "\n",
    "from numpy.linalg import svd\n",
    "\n",
    "dense_rating_matrix = pivot_rating_matrix.to_numpy()\n",
    "\n",
    "U, S, Vt = svd(dense_rating_matrix, full_matrices=False)\n",
    "\n",
    "Sigma = np.diag(S)\n",
    "print(U.shape, S.shape, Vt.shape)"
   ]
  },
  {
   "cell_type": "markdown",
   "metadata": {},
   "source": [
    "#### Above Eigenmatrix is 943*943, but actually we use top K highest eigenvalue part for reduce dimonsion"
   ]
  },
  {
   "cell_type": "markdown",
   "metadata": {},
   "source": [
    "## 1. Folding in technique for cold start\n",
    "1. get new user rating matrix q\n",
    "2. get trained SVD matrix: U, S, V\n",
    "3. project q into user latent factor matrix space: q' = qVS-1\n",
    "4. fold q' into user latent factor matrix U"
   ]
  },
  {
   "cell_type": "markdown",
   "metadata": {},
   "source": [
    "### First, find the top K latent factor, this part can be training by SGD, and we can use fine-tunning to find best topK eigenvector"
   ]
  },
  {
   "cell_type": "code",
   "execution_count": 316,
   "metadata": {},
   "outputs": [
    {
     "data": {
      "text/plain": [
       "(943, 100)"
      ]
     },
     "execution_count": 316,
     "metadata": {},
     "output_type": "execute_result"
    }
   ],
   "source": [
    "U_topK = U[:,:100]\n",
    "U_topK.shape"
   ]
  },
  {
   "cell_type": "code",
   "execution_count": 312,
   "metadata": {},
   "outputs": [
    {
     "data": {
      "text/plain": [
       "(100, 100)"
      ]
     },
     "execution_count": 312,
     "metadata": {},
     "output_type": "execute_result"
    }
   ],
   "source": [
    "S_topK = Sigma[:100,:100]\n",
    "S_topK.shape"
   ]
  },
  {
   "cell_type": "code",
   "execution_count": 322,
   "metadata": {},
   "outputs": [
    {
     "data": {
      "text/plain": [
       "(100, 1682)"
      ]
     },
     "execution_count": 322,
     "metadata": {},
     "output_type": "execute_result"
    }
   ],
   "source": [
    "Vt_topK = Vt[:100,:]\n",
    "Vt_topK.shape"
   ]
  },
  {
   "cell_type": "code",
   "execution_count": 323,
   "metadata": {},
   "outputs": [],
   "source": [
    "inverse_S_topK = np.linalg.inv(S_topK)\n",
    "\n",
    "project_newUser = np.dot(np.dot(new_user_rating_matrix.reshape(1,1682), Vt_topK.transpose()), inverse_S_topK)"
   ]
  },
  {
   "cell_type": "code",
   "execution_count": 327,
   "metadata": {},
   "outputs": [],
   "source": [
    "from sklearn.metrics.pairwise import cosine_similarity\n",
    "\n",
    "cosine_similarity_list = []\n",
    "\n",
    "for i in range(942):\n",
    "    cos_sim_val = cosine_similarity(project_newUser, U_topK[i,:].reshape(1,100))\n",
    "    cosine_similarity_list.append(cos_sim_val)\n",
    "    \n",
    "cosine_similarity_list = np.array(cosine_similarity_list)"
   ]
  },
  {
   "cell_type": "code",
   "execution_count": 334,
   "metadata": {},
   "outputs": [
    {
     "data": {
      "text/plain": [
       "723"
      ]
     },
     "execution_count": 334,
     "metadata": {},
     "output_type": "execute_result"
    }
   ],
   "source": [
    "cosine_similarity_list[165]=0\n",
    "np.argmax(cosine_similarity_list)"
   ]
  },
  {
   "cell_type": "markdown",
   "metadata": {},
   "source": [
    "## 2. Another solution based on a paper. New user missing value imputation - by zeros from another paper"
   ]
  },
  {
   "cell_type": "code",
   "execution_count": 247,
   "metadata": {},
   "outputs": [],
   "source": [
    "## Solve cold start issue\n",
    "\n",
    "## new user cold start issue\n",
    "df_data_new_user166 = df_data[df_data.user_id==166]"
   ]
  },
  {
   "cell_type": "code",
   "execution_count": 248,
   "metadata": {},
   "outputs": [],
   "source": [
    "new_user_rating_matrix = np.zeros((1682))\n",
    "for i in df_data_new_user166.item_id:\n",
    "    new_user_rating_matrix[i-1]=df_data_new_user166[df_data_new_user166.item_id==i].rating"
   ]
  },
  {
   "cell_type": "code",
   "execution_count": 249,
   "metadata": {},
   "outputs": [],
   "source": [
    "user166_matrix = dense_rating_matrix[165,:]"
   ]
  },
  {
   "cell_type": "code",
   "execution_count": 250,
   "metadata": {},
   "outputs": [],
   "source": [
    "new_user_projection = np.dot(new_user_rating_matrix, Vt.transpose())\n",
    "Sigma_with_newUser = np.vstack((Sigma, new_user_projection))\n",
    "Uf, Sf, Vtf = svd(Sigma_with_newUser, full_matrices=False)\n",
    "Sigma_f = np.diag(Sf)"
   ]
  },
  {
   "cell_type": "code",
   "execution_count": 251,
   "metadata": {},
   "outputs": [],
   "source": [
    "zeros = np.zeros((943,1))\n",
    "New_user_matrix = np.append(U,zeros,axis=1)\n",
    "zeros = np.zeros((1,944))\n",
    "zeros[0,943]=1\n",
    "New_user_matrix = np.append(New_user_matrix,zeros,axis=0)"
   ]
  },
  {
   "cell_type": "code",
   "execution_count": 252,
   "metadata": {},
   "outputs": [],
   "source": [
    "New_prediction_rating_matrix = np.dot(New_user_matrix, Uf)\n",
    "New_prediction_rating_matrix = np.dot(New_prediction_rating_matrix, Sigma_f)\n",
    "New_prediction_rating_matrix = np.dot(New_prediction_rating_matrix, np.dot(Vtf, Vt))"
   ]
  },
  {
   "cell_type": "code",
   "execution_count": 254,
   "metadata": {},
   "outputs": [],
   "source": [
    "user943_matrix = New_prediction_rating_matrix[943,:] + algo.trainset.global_mean\n",
    "for idx, val in np.ndenumerate(user943_matrix):\n",
    "    if val>5:\n",
    "        user943_matrix[idx] = 5\n",
    "    if val<=1:\n",
    "        user943_matrix[idx] = 1\n",
    "    "
   ]
  }
 ],
 "metadata": {
  "kernelspec": {
   "display_name": "Python 3",
   "language": "python",
   "name": "python3"
  },
  "language_info": {
   "codemirror_mode": {
    "name": "ipython",
    "version": 3
   },
   "file_extension": ".py",
   "mimetype": "text/x-python",
   "name": "python",
   "nbconvert_exporter": "python",
   "pygments_lexer": "ipython3",
   "version": "3.7.3"
  }
 },
 "nbformat": 4,
 "nbformat_minor": 2
}
