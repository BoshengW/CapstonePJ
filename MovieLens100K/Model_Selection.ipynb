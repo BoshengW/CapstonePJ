{
 "cells": [
  {
   "cell_type": "markdown",
   "metadata": {},
   "source": [
    "## Model Selection - SVD\n",
    "### Add Cross validation + GridSearch CV + evaluation"
   ]
  },
  {
   "cell_type": "code",
   "execution_count": 3,
   "metadata": {},
   "outputs": [],
   "source": [
    "import pandas as pd\n",
    "import numpy as np\n",
    "from surprise import SVD\n",
    "from surprise import Dataset, Reader\n",
    "from surprise.model_selection import cross_validate, train_test_split\n",
    "from surprise import accuracy\n",
    "\n",
    "import movieLens_util"
   ]
  },
  {
   "cell_type": "code",
   "execution_count": 27,
   "metadata": {},
   "outputs": [],
   "source": [
    "df_data, df_movie_meta, df_catalog, df_user_meta = movieLens_util.load_movieLens_dataset('ml-100k')"
   ]
  },
  {
   "cell_type": "code",
   "execution_count": 28,
   "metadata": {},
   "outputs": [],
   "source": [
    "## since Grid search in surprise need to hardcode rating columns as name \"raw_ratings\"\n",
    "\n",
    "df_data_rename = df_data.rename(columns={'rating': 'raw_ratings'})\n",
    "\n",
    "reader = Reader(rating_scale=(1,5))\n",
    "algo = SVD()\n",
    "data_input = Dataset.load_from_df(df_data_rename[['user_id','item_id','raw_ratings']], reader)\n"
   ]
  },
  {
   "cell_type": "markdown",
   "metadata": {},
   "source": [
    "### Adding Grid Search"
   ]
  },
  {
   "cell_type": "markdown",
   "metadata": {},
   "source": [
    "### Grid search cannot handle Trainset object"
   ]
  },
  {
   "cell_type": "markdown",
   "metadata": {},
   "source": [
    "#### First fine-tunning training need around 1 hours"
   ]
  },
  {
   "cell_type": "code",
   "execution_count": 36,
   "metadata": {},
   "outputs": [],
   "source": [
    "from surprise.model_selection import GridSearchCV\n",
    "\n",
    "\n",
    "param_grid = {'n_epochs': [100], 'reg_all': [0.01, 0.03, 0.05, 0.1], \n",
    "              'lr_all': [0.001, 0.005, 0.01]}\n",
    "\n",
    "grid_svd = GridSearchCV(SVD, param_grid, measures=['rmse', 'mae'], cv=5)\n",
    "grid_svd.fit(data_input)"
   ]
  },
  {
   "cell_type": "code",
   "execution_count": null,
   "metadata": {},
   "outputs": [],
   "source": [
    "### param_grid\n",
    "1. regulation params: \n",
    "    reg_all: [0.01, 0.03, 0.05, 0.1]\n",
    "    lr_all: [0.001, 0.005, 0.01]\n",
    "2. iteration\n",
    "    n_epochs: [100 , 150, 200]\n",
    "3. top k optimal latent factors\n",
    "    n_factors: [50, 60, 70, 80, 90, 100, 110, 120, 130, 140, 150, 160, 170, 180, 190, 200]"
   ]
  },
  {
   "cell_type": "code",
   "execution_count": 38,
   "metadata": {},
   "outputs": [
    {
     "data": {
      "text/plain": [
       "{'rmse': 0.9093913347010686, 'mae': 0.718270024311075}"
      ]
     },
     "execution_count": 38,
     "metadata": {},
     "output_type": "execute_result"
    }
   ],
   "source": [
    "grid_svd.best_score"
   ]
  },
  {
   "cell_type": "code",
   "execution_count": 39,
   "metadata": {},
   "outputs": [
    {
     "data": {
      "text/plain": [
       "{'rmse': {'n_epochs': 100, 'reg_all': 0.1, 'lr_all': 0.005},\n",
       " 'mae': {'n_epochs': 100, 'reg_all': 0.1, 'lr_all': 0.005}}"
      ]
     },
     "execution_count": 39,
     "metadata": {},
     "output_type": "execute_result"
    }
   ],
   "source": [
    "grid_svd.best_params"
   ]
  },
  {
   "cell_type": "markdown",
   "metadata": {},
   "source": [
    "#### Second fine-tuning training need around 4 hours"
   ]
  },
  {
   "cell_type": "markdown",
   "metadata": {},
   "source": [
    "Best Params: n_epochs: 100, reg_all: 0.1, lr_all: 0.005, n_factors: 130 (mae), 190(rsme)"
   ]
  },
  {
   "cell_type": "code",
   "execution_count": 44,
   "metadata": {},
   "outputs": [],
   "source": [
    "param_grid2= {'n_epochs': [100 , 150, 200], 'reg_all': [0.1], \n",
    "              'lr_all': [0.005] , \n",
    "              'n_factors': [50, 60, 70, 80, 90, 100, 110, 120, 130, 140, 150, 160, 170, 180, 190, 200]}\n",
    "\n",
    "\n",
    "grid_svd2 = GridSearchCV(SVD, param_grid2, measures=['rmse', 'mae'], cv=5)\n",
    "grid_svd2.fit(data_input)"
   ]
  },
  {
   "cell_type": "code",
   "execution_count": 46,
   "metadata": {},
   "outputs": [
    {
     "data": {
      "text/plain": [
       "{'rmse': 0.9083925353530186, 'mae': 0.7173197514854535}"
      ]
     },
     "execution_count": 46,
     "metadata": {},
     "output_type": "execute_result"
    }
   ],
   "source": [
    "grid_svd2.best_score"
   ]
  },
  {
   "cell_type": "markdown",
   "metadata": {},
   "source": [
    "## Grid Search Visualization"
   ]
  },
  {
   "cell_type": "code",
   "execution_count": null,
   "metadata": {},
   "outputs": [],
   "source": []
  }
 ],
 "metadata": {
  "kernelspec": {
   "display_name": "Python 3",
   "language": "python",
   "name": "python3"
  },
  "language_info": {
   "codemirror_mode": {
    "name": "ipython",
    "version": 3
   },
   "file_extension": ".py",
   "mimetype": "text/x-python",
   "name": "python",
   "nbconvert_exporter": "python",
   "pygments_lexer": "ipython3",
   "version": "3.7.3"
  }
 },
 "nbformat": 4,
 "nbformat_minor": 2
}
